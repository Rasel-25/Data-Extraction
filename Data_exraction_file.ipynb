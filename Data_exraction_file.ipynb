{
 "cells": [
  {
   "cell_type": "markdown",
   "metadata": {},
   "source": [
    "# **Data Extractin**"
   ]
  },
  {
   "cell_type": "code",
   "execution_count": 1,
   "metadata": {},
   "outputs": [],
   "source": [
    "import numpy as np\n",
    "import pandas as pd\n",
    "\n",
    "import warnings \n",
    "warnings.filterwarnings(action='ignore')"
   ]
  },
  {
   "cell_type": "markdown",
   "metadata": {},
   "source": [
    "<font color='red'> **txt file**<font>"
   ]
  },
  {
   "cell_type": "code",
   "execution_count": 3,
   "metadata": {},
   "outputs": [],
   "source": [
    "# Write mode\n",
    "with open('Files\\\\file.txt',mode='w') as f: # Write mode override the previous file and data\n",
    "    f.write('Machine Learning')"
   ]
  },
  {
   "cell_type": "code",
   "execution_count": 5,
   "metadata": {},
   "outputs": [],
   "source": [
    "# Append mode \n",
    "with open('Files\\\\file.txt',mode='a') as f:  # Append mode add data into the file\n",
    "    f.write('\\nDeep Learning')"
   ]
  },
  {
   "cell_type": "code",
   "execution_count": 6,
   "metadata": {},
   "outputs": [
    {
     "name": "stdout",
     "output_type": "stream",
     "text": [
      "Machine Learning\n",
      "Deep Learning\n"
     ]
    }
   ],
   "source": [
    "# Read mode (read mode work by default)\n",
    "with open('Files\\\\file.txt', mode='r') as f: # read mode read data from the file\n",
    "    data=f.read()\n",
    "    print(data)"
   ]
  },
  {
   "cell_type": "code",
   "execution_count": 7,
   "metadata": {},
   "outputs": [
    {
     "name": "stdout",
     "output_type": "stream",
     "text": [
      "['Machine Learning\\n', 'Deep Learning']\n"
     ]
    }
   ],
   "source": [
    "with open('Files\\\\file.txt', mode='r') as f:\n",
    "    data=f.readlines() # Read all lines as a list\n",
    "    print(data) "
   ]
  },
  {
   "cell_type": "code",
   "execution_count": 8,
   "metadata": {},
   "outputs": [
    {
     "name": "stdout",
     "output_type": "stream",
     "text": [
      "Machine Le\n"
     ]
    }
   ],
   "source": [
    "with open('Files\\\\file.txt', mode='r') as f:\n",
    "    data=f.readline(10) # read character as per parametter\n",
    "    print(data)"
   ]
  },
  {
   "cell_type": "code",
   "execution_count": null,
   "metadata": {},
   "outputs": [],
   "source": [
    "# Exclusive mode \n",
    "with open('Files\\\\file.txt',mode='x') as f: # Exclusive mode doesn't overrride previous file & data\n",
    "    f.write('Machine Learning')  # If there is a file with the same name, it throws FileExistsError"
   ]
  },
  {
   "cell_type": "code",
   "execution_count": 10,
   "metadata": {},
   "outputs": [
    {
     "name": "stdout",
     "output_type": "stream",
     "text": [
      "Machine Learning\n",
      "Deep Learning\n"
     ]
    }
   ],
   "source": [
    "with open('Files\\\\file.txt', mode='r+') as f:  # read and write mode -> read first then write\n",
    "    data=f.read()\n",
    "    print(data)\n",
    "    f.writelines(['\\nPython has several functions.''\\nFile handling is an important part of any web application.'])"
   ]
  },
  {
   "cell_type": "markdown",
   "metadata": {},
   "source": [
    "<font color='red'> **CSV file**<font>"
   ]
  },
  {
   "cell_type": "code",
   "execution_count": 11,
   "metadata": {},
   "outputs": [
    {
     "data": {
      "text/plain": [
       "'1.0'"
      ]
     },
     "execution_count": 11,
     "metadata": {},
     "output_type": "execute_result"
    }
   ],
   "source": [
    "import csv\n",
    "csv.__version__"
   ]
  },
  {
   "cell_type": "code",
   "execution_count": 12,
   "metadata": {},
   "outputs": [],
   "source": [
    "# Creation of CSV file\n",
    "with open('Files\\\\test.csv', mode='w', newline='') as f: # newline='' remove extra space\n",
    "    data=csv.writer(f, delimiter='\\t') # we can use delimiter='' to separate data\n",
    "    data.writerow(['Name','ID','Age'])\n",
    "    data.writerows([ \n",
    "                        ['Rasel', 1, 70],\n",
    "                        ['Jamil', 2, 75],\n",
    "                        ['Afrida', 3, 65]\n",
    "                    ])"
   ]
  },
  {
   "cell_type": "code",
   "execution_count": 13,
   "metadata": {},
   "outputs": [
    {
     "name": "stdout",
     "output_type": "stream",
     "text": [
      "Name\tID\tAge\n",
      "Rasel\t1\t70\n",
      "Jamil\t2\t75\n",
      "Afrida\t3\t65\n",
      "\n"
     ]
    }
   ],
   "source": [
    "# Read CSV file\n",
    "with open('Files\\\\test.csv', mode='r') as f:\n",
    "    data=f.read() # read character as per parametter\n",
    "    print(data)"
   ]
  },
  {
   "cell_type": "code",
   "execution_count": 14,
   "metadata": {},
   "outputs": [
    {
     "name": "stdout",
     "output_type": "stream",
     "text": [
      "[['Name', 'ID', 'Age'], ['Rasel', '1', '70'], ['Jamil', '2', '75'], ['Afrida', '3', '65']]\n"
     ]
    }
   ],
   "source": [
    "# read csv file\n",
    "with open('Files\\\\test.csv', mode='r',newline='') as f: \n",
    "    data=csv.reader(f, delimiter='\\t') \n",
    "    #print(data)\n",
    "    print(list(data))"
   ]
  },
  {
   "cell_type": "code",
   "execution_count": 15,
   "metadata": {},
   "outputs": [
    {
     "name": "stdout",
     "output_type": "stream",
     "text": [
      "['Name', 'ID', 'Age']\n",
      "['Rasel', '1', '70']\n",
      "['Jamil', '2', '75']\n",
      "['Afrida', '3', '65']\n"
     ]
    }
   ],
   "source": [
    "# read csv file\n",
    "with open('Files\\\\test.csv', mode='r',newline='') as f: \n",
    "    data=csv.reader(f, delimiter='\\t') \n",
    "    #print(data)\n",
    "    #print(list(data))\n",
    "    for row in data:\n",
    "        print(row)"
   ]
  },
  {
   "cell_type": "markdown",
   "metadata": {},
   "source": [
    "<font color='red'> **xlsx file**<font>"
   ]
  },
  {
   "cell_type": "code",
   "execution_count": 16,
   "metadata": {},
   "outputs": [
    {
     "data": {
      "text/html": [
       "<div>\n",
       "<style scoped>\n",
       "    .dataframe tbody tr th:only-of-type {\n",
       "        vertical-align: middle;\n",
       "    }\n",
       "\n",
       "    .dataframe tbody tr th {\n",
       "        vertical-align: top;\n",
       "    }\n",
       "\n",
       "    .dataframe thead th {\n",
       "        text-align: right;\n",
       "    }\n",
       "</style>\n",
       "<table border=\"1\" class=\"dataframe\">\n",
       "  <thead>\n",
       "    <tr style=\"text-align: right;\">\n",
       "      <th></th>\n",
       "      <th>Unnamed: 0</th>\n",
       "      <th>Speed (mph)</th>\n",
       "      <th>Driver</th>\n",
       "      <th>Car</th>\n",
       "      <th>Engine</th>\n",
       "      <th>Date</th>\n",
       "    </tr>\n",
       "  </thead>\n",
       "  <tbody>\n",
       "    <tr>\n",
       "      <th>0</th>\n",
       "      <td>0</td>\n",
       "      <td>407.447</td>\n",
       "      <td>Craig Breedlove</td>\n",
       "      <td>Spirit of America</td>\n",
       "      <td>GE J47</td>\n",
       "      <td>8/5/63</td>\n",
       "    </tr>\n",
       "    <tr>\n",
       "      <th>1</th>\n",
       "      <td>1</td>\n",
       "      <td>413.199</td>\n",
       "      <td>Tom Green</td>\n",
       "      <td>Wingfoot Express</td>\n",
       "      <td>WE J46</td>\n",
       "      <td>10/2/64</td>\n",
       "    </tr>\n",
       "    <tr>\n",
       "      <th>2</th>\n",
       "      <td>2</td>\n",
       "      <td>434.220</td>\n",
       "      <td>Art Arfons</td>\n",
       "      <td>Green Monster</td>\n",
       "      <td>GE J79</td>\n",
       "      <td>10/5/64</td>\n",
       "    </tr>\n",
       "    <tr>\n",
       "      <th>3</th>\n",
       "      <td>3</td>\n",
       "      <td>468.719</td>\n",
       "      <td>Craig Breedlove</td>\n",
       "      <td>Spirit of America</td>\n",
       "      <td>GE J79</td>\n",
       "      <td>10/13/64</td>\n",
       "    </tr>\n",
       "    <tr>\n",
       "      <th>4</th>\n",
       "      <td>4</td>\n",
       "      <td>526.277</td>\n",
       "      <td>Craig Breedlove</td>\n",
       "      <td>Spirit of America</td>\n",
       "      <td>GE J79</td>\n",
       "      <td>10/15/65</td>\n",
       "    </tr>\n",
       "  </tbody>\n",
       "</table>\n",
       "</div>"
      ],
      "text/plain": [
       "   Unnamed: 0  Speed (mph)           Driver                Car  Engine  \\\n",
       "0           0      407.447  Craig Breedlove  Spirit of America  GE J47   \n",
       "1           1      413.199        Tom Green   Wingfoot Express  WE J46   \n",
       "2           2      434.220       Art Arfons      Green Monster  GE J79   \n",
       "3           3      468.719  Craig Breedlove  Spirit of America  GE J79   \n",
       "4           4      526.277  Craig Breedlove  Spirit of America  GE J79   \n",
       "\n",
       "       Date  \n",
       "0    8/5/63  \n",
       "1   10/2/64  \n",
       "2   10/5/64  \n",
       "3  10/13/64  \n",
       "4  10/15/65  "
      ]
     },
     "execution_count": 16,
     "metadata": {},
     "output_type": "execute_result"
    }
   ],
   "source": [
    "# import pandas lib as pd\n",
    "import pandas as pd\n",
    " \n",
    "# read by default 1st sheet of an excel file\n",
    "data = pd.read_excel('Files\\\\all_table1.xlsx')\n",
    " \n",
    "data.head()"
   ]
  },
  {
   "cell_type": "markdown",
   "metadata": {},
   "source": [
    "<font color='red'> **JSON file**<font>"
   ]
  },
  {
   "cell_type": "code",
   "execution_count": 17,
   "metadata": {},
   "outputs": [],
   "source": [
    "import json"
   ]
  },
  {
   "cell_type": "code",
   "execution_count": 18,
   "metadata": {},
   "outputs": [
    {
     "name": "stdout",
     "output_type": "stream",
     "text": [
      "{'First Name': 'Joe', 'Last Name': 'Jackson', 'Gender': 'male', 'Age': 28, 'Address': {'Street Address': '101', 'City': 'San Diego', 'State': 'CA'}, 'Phone Numbers': [{'type': 'home', 'number': '7349282382'}]}\n"
     ]
    }
   ],
   "source": [
    "# Reading the json file\n",
    "with open('Files\\\\sample.json',mode='r') as f:\n",
    "\tdata = json.load(f)\n",
    "print(data)"
   ]
  },
  {
   "cell_type": "code",
   "execution_count": 19,
   "metadata": {},
   "outputs": [
    {
     "data": {
      "text/plain": [
       "'101'"
      ]
     },
     "execution_count": 19,
     "metadata": {},
     "output_type": "execute_result"
    }
   ],
   "source": [
    "data['Address']['Street Address']"
   ]
  },
  {
   "cell_type": "code",
   "execution_count": 20,
   "metadata": {},
   "outputs": [
    {
     "data": {
      "text/html": [
       "<div>\n",
       "<style scoped>\n",
       "    .dataframe tbody tr th:only-of-type {\n",
       "        vertical-align: middle;\n",
       "    }\n",
       "\n",
       "    .dataframe tbody tr th {\n",
       "        vertical-align: top;\n",
       "    }\n",
       "\n",
       "    .dataframe thead th {\n",
       "        text-align: right;\n",
       "    }\n",
       "</style>\n",
       "<table border=\"1\" class=\"dataframe\">\n",
       "  <thead>\n",
       "    <tr style=\"text-align: right;\">\n",
       "      <th></th>\n",
       "      <th>Duration</th>\n",
       "      <th>Pulse</th>\n",
       "      <th>Maxpulse</th>\n",
       "      <th>Calories</th>\n",
       "    </tr>\n",
       "  </thead>\n",
       "  <tbody>\n",
       "    <tr>\n",
       "      <th>0</th>\n",
       "      <td>60</td>\n",
       "      <td>110</td>\n",
       "      <td>130</td>\n",
       "      <td>409.1</td>\n",
       "    </tr>\n",
       "    <tr>\n",
       "      <th>1</th>\n",
       "      <td>60</td>\n",
       "      <td>117</td>\n",
       "      <td>145</td>\n",
       "      <td>479.0</td>\n",
       "    </tr>\n",
       "    <tr>\n",
       "      <th>2</th>\n",
       "      <td>60</td>\n",
       "      <td>103</td>\n",
       "      <td>135</td>\n",
       "      <td>340.0</td>\n",
       "    </tr>\n",
       "    <tr>\n",
       "      <th>3</th>\n",
       "      <td>45</td>\n",
       "      <td>109</td>\n",
       "      <td>175</td>\n",
       "      <td>282.4</td>\n",
       "    </tr>\n",
       "    <tr>\n",
       "      <th>4</th>\n",
       "      <td>45</td>\n",
       "      <td>117</td>\n",
       "      <td>148</td>\n",
       "      <td>406.0</td>\n",
       "    </tr>\n",
       "  </tbody>\n",
       "</table>\n",
       "</div>"
      ],
      "text/plain": [
       "   Duration  Pulse  Maxpulse  Calories\n",
       "0        60    110       130     409.1\n",
       "1        60    117       145     479.0\n",
       "2        60    103       135     340.0\n",
       "3        45    109       175     282.4\n",
       "4        45    117       148     406.0"
      ]
     },
     "execution_count": 20,
     "metadata": {},
     "output_type": "execute_result"
    }
   ],
   "source": [
    "df=pd.read_json('Files\\\\data.json')\n",
    "df.head()"
   ]
  },
  {
   "cell_type": "code",
   "execution_count": 22,
   "metadata": {},
   "outputs": [
    {
     "data": {
      "text/html": [
       "<div>\n",
       "<style scoped>\n",
       "    .dataframe tbody tr th:only-of-type {\n",
       "        vertical-align: middle;\n",
       "    }\n",
       "\n",
       "    .dataframe tbody tr th {\n",
       "        vertical-align: top;\n",
       "    }\n",
       "\n",
       "    .dataframe thead th {\n",
       "        text-align: right;\n",
       "    }\n",
       "</style>\n",
       "<table border=\"1\" class=\"dataframe\">\n",
       "  <thead>\n",
       "    <tr style=\"text-align: right;\">\n",
       "      <th></th>\n",
       "      <th>Duration</th>\n",
       "      <th>Pulse</th>\n",
       "      <th>Maxpulse</th>\n",
       "      <th>Calories</th>\n",
       "    </tr>\n",
       "  </thead>\n",
       "  <tbody>\n",
       "    <tr>\n",
       "      <th>0</th>\n",
       "      <td>60</td>\n",
       "      <td>110</td>\n",
       "      <td>130</td>\n",
       "      <td>409</td>\n",
       "    </tr>\n",
       "    <tr>\n",
       "      <th>1</th>\n",
       "      <td>60</td>\n",
       "      <td>117</td>\n",
       "      <td>145</td>\n",
       "      <td>479</td>\n",
       "    </tr>\n",
       "    <tr>\n",
       "      <th>2</th>\n",
       "      <td>60</td>\n",
       "      <td>103</td>\n",
       "      <td>135</td>\n",
       "      <td>340</td>\n",
       "    </tr>\n",
       "    <tr>\n",
       "      <th>3</th>\n",
       "      <td>45</td>\n",
       "      <td>109</td>\n",
       "      <td>175</td>\n",
       "      <td>282</td>\n",
       "    </tr>\n",
       "    <tr>\n",
       "      <th>4</th>\n",
       "      <td>45</td>\n",
       "      <td>117</td>\n",
       "      <td>148</td>\n",
       "      <td>406</td>\n",
       "    </tr>\n",
       "    <tr>\n",
       "      <th>5</th>\n",
       "      <td>60</td>\n",
       "      <td>102</td>\n",
       "      <td>127</td>\n",
       "      <td>300</td>\n",
       "    </tr>\n",
       "  </tbody>\n",
       "</table>\n",
       "</div>"
      ],
      "text/plain": [
       "   Duration  Pulse  Maxpulse  Calories\n",
       "0        60    110       130       409\n",
       "1        60    117       145       479\n",
       "2        60    103       135       340\n",
       "3        45    109       175       282\n",
       "4        45    117       148       406\n",
       "5        60    102       127       300"
      ]
     },
     "execution_count": 22,
     "metadata": {},
     "output_type": "execute_result"
    }
   ],
   "source": [
    "data = {\n",
    "  \"Duration\":{\n",
    "    \"0\":60,\n",
    "    \"1\":60,\n",
    "    \"2\":60,\n",
    "    \"3\":45,\n",
    "    \"4\":45,\n",
    "    \"5\":60\n",
    "  },\n",
    "  \"Pulse\":{\n",
    "    \"0\":110,\n",
    "    \"1\":117,\n",
    "    \"2\":103,\n",
    "    \"3\":109,\n",
    "    \"4\":117,\n",
    "    \"5\":102\n",
    "  },\n",
    "  \"Maxpulse\":{\n",
    "    \"0\":130,\n",
    "    \"1\":145,\n",
    "    \"2\":135,\n",
    "    \"3\":175,\n",
    "    \"4\":148,\n",
    "    \"5\":127\n",
    "  },\n",
    "  \"Calories\":{\n",
    "    \"0\":409,\n",
    "    \"1\":479,\n",
    "    \"2\":340,\n",
    "    \"3\":282,\n",
    "    \"4\":406,\n",
    "    \"5\":300\n",
    "  }\n",
    "}\n",
    "\n",
    "df = pd.DataFrame(data)\n",
    "df"
   ]
  },
  {
   "cell_type": "markdown",
   "metadata": {},
   "source": [
    "<font color='red'> **PDF file**<font>"
   ]
  },
  {
   "cell_type": "code",
   "execution_count": 23,
   "metadata": {},
   "outputs": [],
   "source": [
    "# importing required modules\n",
    "import PyPDF2"
   ]
  },
  {
   "cell_type": "markdown",
   "metadata": {},
   "source": [
    "     |Read PDF"
   ]
  },
  {
   "cell_type": "code",
   "execution_count": 24,
   "metadata": {},
   "outputs": [
    {
     "name": "stdout",
     "output_type": "stream",
     "text": [
      "2\n",
      "Extract text from PDF File using Python  \n",
      "All of you must be familiar with what PDFs are. In fact, they are one of the most \n",
      "important and widely used digital media. PDF stands for Portable Document \n",
      "Format. It uses .pdf extension. It is used to present and exchange documents \n",
      "reliably, independent of software, hardware, or operating system.  \n",
      " \n",
      "Extracting Text from PDF File  \n",
      "Python package PyPDF can be used to achieve what we want (text extraction), \n",
      "although it can do more than what we need. This pack age can also be used to \n",
      "generate, decrypting and merging PDF files.  \n",
      " \n",
      "Id Name  CGPA  \n",
      "1 Rasel  3.69 \n",
      "2 Jamil  3.80 \n",
      "3 Ruhul  3.78 \n",
      "4 Riaz 3.66 \n",
      " \n",
      " \n",
      " \n",
      " \n",
      " \n",
      " \n",
      " \n",
      " \n",
      " \n",
      " \n",
      " \n"
     ]
    }
   ],
   "source": [
    "with open('Files\\\\IFC.pdf', 'rb') as f: # creating a pdf file object\n",
    "    data = PyPDF2.PdfFileReader(f) # # creating a pdf reader object\n",
    "    \n",
    "    print(data.numPages) # printing number of pages in pdf file\n",
    "    pageObj = data.getPage(0) # creating a page object\n",
    "    print(pageObj.extractText()) # extracting text from page"
   ]
  },
  {
   "cell_type": "code",
   "execution_count": 25,
   "metadata": {},
   "outputs": [
    {
     "name": "stdout",
     "output_type": "stream",
     "text": [
      "Extract text from PDF File using Python  \n",
      "All of you must be familiar with what PDFs are. In fact, they are one of the most \n",
      "important and widely used digital media. PDF stands for Portable Document \n",
      "Format. It uses .pdf extension. It is used to present and exchange documents \n",
      "reliably, independent of software, hardware, or operating system.  \n",
      " \n",
      "Extracting Text from PDF File  \n",
      "Python package PyPDF can be used to achieve what we want (text extraction), \n",
      "although it can do more than what we need. This pack age can also be used to \n",
      "generate, decrypting and merging PDF files.  \n",
      " \n",
      "Id Name  CGPA  \n",
      "1 Rasel  3.69 \n",
      "2 Jamil  3.80 \n",
      "3 Ruhul  3.78 \n",
      "4 Riaz 3.66 \n",
      " \n",
      " \n",
      " \n",
      " \n",
      " \n",
      " \n",
      " \n",
      " \n",
      " \n",
      " \n",
      " \n"
     ]
    }
   ],
   "source": [
    "# read pdf file\n",
    "data=PyPDF2.PdfFileReader('Files\\\\IFC.pdf')\n",
    "#data.documentInfo\n",
    "#data.getNumPages()\n",
    "print(data.getPage(0).extract_text())"
   ]
  },
  {
   "cell_type": "code",
   "execution_count": 26,
   "metadata": {},
   "outputs": [
    {
     "name": "stdout",
     "output_type": "stream",
     "text": [
      "Extract text from PDF File using Python  \n",
      "All of you must be familiar with what PDFs are. In fact, they are one of the most \n",
      "important and widely used digital media. PDF stands for Portable Document \n",
      "Format. It uses .pdf extension. It is used to present and exchange documents \n",
      "reliably, independent of software, hardware, or operating system.  \n",
      " \n",
      "Extracting Text from PDF File  \n",
      "Python package PyPDF can be used to achieve what we want (text extraction), \n",
      "although it can do more than what we need. This pack age can also be used to \n",
      "generate, decrypting and merging PDF files.  \n",
      " \n",
      "Id Name  CGPA  \n",
      "1 Rasel  3.69 \n",
      "2 Jamil  3.80 \n",
      "3 Ruhul  3.78 \n",
      "4 Riaz 3.66 \n",
      " \n",
      " \n",
      " \n",
      " \n",
      " \n",
      " \n",
      " \n",
      " \n",
      " \n",
      " \n",
      "  \n",
      " \n",
      " \n",
      " \n",
      " \n",
      " \n",
      "How to Extract Text from PDF  \n",
      "In this blog, we are going to examine the most popular libraries for processing \n",
      "PDFs with Python. A lot of information is shared in the form of PDF, and often we \n",
      "need to extract some details for further processing.  \n",
      "To assist it in my research in identifying the most popular python libraries, I \n",
      "looked across StackOverflow, Reddit and generally lots of google searches. I \n",
      "identified numerous packa ges, each with its own strengths and weakness. \n",
      "Specifically, users across the internet seem to be using: PyPDF2, Textract, tika, \n",
      "pdfPlumber, pdfMiner.  \n"
     ]
    }
   ],
   "source": [
    "data=PyPDF2.PdfFileReader('Files\\\\IFC.pdf')\n",
    "str=''\n",
    "for i in range(0,2):\n",
    "    str+=data.getPage(i).extract_text()\n",
    "print(str)"
   ]
  },
  {
   "cell_type": "markdown",
   "metadata": {},
   "source": [
    "    | Read pdf all text and store in txt file"
   ]
  },
  {
   "cell_type": "code",
   "execution_count": 27,
   "metadata": {},
   "outputs": [],
   "source": [
    "data=PyPDF2.PdfFileReader('Files\\\\IFC.pdf')\n",
    "str=''\n",
    "for i in range(0,2):\n",
    "    str+=data.getPage(i).extract_text()\n",
    "#print(str)\n",
    "\n",
    "with open('text.txt', mode='w',encoding='utf-8') as f:\n",
    "    f.write(str)"
   ]
  },
  {
   "cell_type": "markdown",
   "metadata": {},
   "source": [
    "    | Creationg a PDF file"
   ]
  },
  {
   "cell_type": "code",
   "execution_count": 28,
   "metadata": {},
   "outputs": [
    {
     "data": {
      "text/plain": [
       "''"
      ]
     },
     "execution_count": 28,
     "metadata": {},
     "output_type": "execute_result"
    }
   ],
   "source": [
    "from fpdf import FPDF\n",
    "pdf=FPDF()\n",
    "pdf.add_page()\n",
    "pdf.set_font('Arial', size=10)\n",
    "\n",
    "pdf.cell(200,10,txt='PDF Extraction',ln=1,align='c')\n",
    "pdf.cell(200,10,txt='Working With PDF Files In Python: Creating a PDF, Extracting Text, and Converting Files',ln=2,align='c')\n",
    "\n",
    "pdf.output('Files\\\\Create.pdf')\n"
   ]
  },
  {
   "cell_type": "markdown",
   "metadata": {},
   "source": [
    "    | Convert a txt file into a pdf"
   ]
  },
  {
   "cell_type": "code",
   "execution_count": 30,
   "metadata": {},
   "outputs": [
    {
     "data": {
      "text/plain": [
       "''"
      ]
     },
     "execution_count": 30,
     "metadata": {},
     "output_type": "execute_result"
    }
   ],
   "source": [
    "from fpdf import FPDF\n",
    "pdf=FPDF()\n",
    "pdf.add_page()\n",
    "pdf.set_font('Arial', size=10)\n",
    "\n",
    "with open('Files\\\\text.txt', mode='r') as text:\n",
    "\n",
    "    for line in text:\n",
    "        pdf.cell(200,10,txt=line,ln=1,align='c')\n",
    "\n",
    "pdf.output('Files\\\\Create_2.pdf')\n"
   ]
  },
  {
   "cell_type": "markdown",
   "metadata": {},
   "source": [
    "### **Resad Table**"
   ]
  },
  {
   "cell_type": "code",
   "execution_count": 31,
   "metadata": {},
   "outputs": [],
   "source": [
    "import tabula\n",
    "pdf_path='Files\\\\data_sample.pdf'\n",
    "#pdf_path=r'https://sedl.org/afterschool/toolkits/science/pdf/ast_sci_data_tables_sample.pdf'"
   ]
  },
  {
   "cell_type": "markdown",
   "metadata": {},
   "source": [
    "    | Extract Single table"
   ]
  },
  {
   "cell_type": "code",
   "execution_count": 32,
   "metadata": {},
   "outputs": [
    {
     "data": {
      "text/html": [
       "<div>\n",
       "<style scoped>\n",
       "    .dataframe tbody tr th:only-of-type {\n",
       "        vertical-align: middle;\n",
       "    }\n",
       "\n",
       "    .dataframe tbody tr th {\n",
       "        vertical-align: top;\n",
       "    }\n",
       "\n",
       "    .dataframe thead th {\n",
       "        text-align: right;\n",
       "    }\n",
       "</style>\n",
       "<table border=\"1\" class=\"dataframe\">\n",
       "  <thead>\n",
       "    <tr style=\"text-align: right;\">\n",
       "      <th></th>\n",
       "      <th>Number of Coils</th>\n",
       "      <th>Number of Paperclips</th>\n",
       "    </tr>\n",
       "  </thead>\n",
       "  <tbody>\n",
       "    <tr>\n",
       "      <th>0</th>\n",
       "      <td>5</td>\n",
       "      <td>3, 5, 4</td>\n",
       "    </tr>\n",
       "    <tr>\n",
       "      <th>1</th>\n",
       "      <td>10</td>\n",
       "      <td>7, 8, 6</td>\n",
       "    </tr>\n",
       "    <tr>\n",
       "      <th>2</th>\n",
       "      <td>15</td>\n",
       "      <td>11, 10, 12</td>\n",
       "    </tr>\n",
       "    <tr>\n",
       "      <th>3</th>\n",
       "      <td>20</td>\n",
       "      <td>15, 13, 14</td>\n",
       "    </tr>\n",
       "  </tbody>\n",
       "</table>\n",
       "</div>"
      ],
      "text/plain": [
       "   Number of Coils Number of Paperclips\n",
       "0                5              3, 5, 4\n",
       "1               10              7, 8, 6\n",
       "2               15           11, 10, 12\n",
       "3               20           15, 13, 14"
      ]
     },
     "execution_count": 32,
     "metadata": {},
     "output_type": "execute_result"
    }
   ],
   "source": [
    "# Extract Single table\n",
    "dfs=tabula.read_pdf(pdf_path,pages='1')\n",
    "#print(len(dfs))\n",
    "dfs[0]"
   ]
  },
  {
   "cell_type": "code",
   "execution_count": 33,
   "metadata": {},
   "outputs": [],
   "source": [
    "#dfs[0].to_csv('data_sample.csv') # or\n",
    "tabula.convert_into(pdf_path,'data_sample_2.csv', format='csv',pages='1')"
   ]
  },
  {
   "cell_type": "markdown",
   "metadata": {},
   "source": [
    "    | Extract multipul table"
   ]
  },
  {
   "cell_type": "code",
   "execution_count": 34,
   "metadata": {},
   "outputs": [
    {
     "name": "stderr",
     "output_type": "stream",
     "text": [
      "Got stderr: Nov 21, 2022 11:14:44 AM org.apache.pdfbox.rendering.PDFRenderer suggestKCMS\n",
      "INFO: Your current java version is: 1.8.0\n",
      "Nov 21, 2022 11:14:44 AM org.apache.pdfbox.rendering.PDFRenderer suggestKCMS\n",
      "INFO: To get higher rendering speed on old java 1.8 or 9 versions,\n",
      "Nov 21, 2022 11:14:44 AM org.apache.pdfbox.rendering.PDFRenderer suggestKCMS\n",
      "INFO:   update to the latest 1.8 or 9 version (>= 1.8.0_191 or >= 9.0.4),\n",
      "Nov 21, 2022 11:14:44 AM org.apache.pdfbox.rendering.PDFRenderer suggestKCMS\n",
      "INFO:   or\n",
      "Nov 21, 2022 11:14:44 AM org.apache.pdfbox.rendering.PDFRenderer suggestKCMS\n",
      "INFO:   use the option -Dsun.java2d.cmm=sun.java2d.cmm.kcms.KcmsServiceProvider\n",
      "Nov 21, 2022 11:14:44 AM org.apache.pdfbox.rendering.PDFRenderer suggestKCMS\n",
      "INFO:   or call System.setProperty(\"sun.java2d.cmm\", \"sun.java2d.cmm.kcms.KcmsServiceProvider\")\n",
      "\n"
     ]
    },
    {
     "data": {
      "text/html": [
       "<div>\n",
       "<style scoped>\n",
       "    .dataframe tbody tr th:only-of-type {\n",
       "        vertical-align: middle;\n",
       "    }\n",
       "\n",
       "    .dataframe tbody tr th {\n",
       "        vertical-align: top;\n",
       "    }\n",
       "\n",
       "    .dataframe thead th {\n",
       "        text-align: right;\n",
       "    }\n",
       "</style>\n",
       "<table border=\"1\" class=\"dataframe\">\n",
       "  <thead>\n",
       "    <tr style=\"text-align: right;\">\n",
       "      <th></th>\n",
       "      <th>Time (drops of water)</th>\n",
       "      <th>Distance (cm)</th>\n",
       "    </tr>\n",
       "  </thead>\n",
       "  <tbody>\n",
       "    <tr>\n",
       "      <th>0</th>\n",
       "      <td>1</td>\n",
       "      <td>10,11,9</td>\n",
       "    </tr>\n",
       "    <tr>\n",
       "      <th>1</th>\n",
       "      <td>2</td>\n",
       "      <td>29, 31, 30</td>\n",
       "    </tr>\n",
       "    <tr>\n",
       "      <th>2</th>\n",
       "      <td>3</td>\n",
       "      <td>59, 58, 61</td>\n",
       "    </tr>\n",
       "    <tr>\n",
       "      <th>3</th>\n",
       "      <td>4</td>\n",
       "      <td>102, 100, 98</td>\n",
       "    </tr>\n",
       "    <tr>\n",
       "      <th>4</th>\n",
       "      <td>5</td>\n",
       "      <td>122, 125, 127</td>\n",
       "    </tr>\n",
       "  </tbody>\n",
       "</table>\n",
       "</div>"
      ],
      "text/plain": [
       "   Time (drops of water)  Distance (cm)\n",
       "0                      1        10,11,9\n",
       "1                      2     29, 31, 30\n",
       "2                      3     59, 58, 61\n",
       "3                      4   102, 100, 98\n",
       "4                      5  122, 125, 127"
      ]
     },
     "execution_count": 34,
     "metadata": {},
     "output_type": "execute_result"
    }
   ],
   "source": [
    "df2=tabula.read_pdf(pdf_path,pages='2')\n",
    "df2[1]"
   ]
  },
  {
   "cell_type": "code",
   "execution_count": 35,
   "metadata": {},
   "outputs": [
    {
     "name": "stderr",
     "output_type": "stream",
     "text": [
      "Got stderr: Nov 21, 2022 11:15:01 AM org.apache.pdfbox.rendering.PDFRenderer suggestKCMS\n",
      "INFO: Your current java version is: 1.8.0\n",
      "Nov 21, 2022 11:15:01 AM org.apache.pdfbox.rendering.PDFRenderer suggestKCMS\n",
      "INFO: To get higher rendering speed on old java 1.8 or 9 versions,\n",
      "Nov 21, 2022 11:15:01 AM org.apache.pdfbox.rendering.PDFRenderer suggestKCMS\n",
      "INFO:   update to the latest 1.8 or 9 version (>= 1.8.0_191 or >= 9.0.4),\n",
      "Nov 21, 2022 11:15:01 AM org.apache.pdfbox.rendering.PDFRenderer suggestKCMS\n",
      "INFO:   or\n",
      "Nov 21, 2022 11:15:01 AM org.apache.pdfbox.rendering.PDFRenderer suggestKCMS\n",
      "INFO:   use the option -Dsun.java2d.cmm=sun.java2d.cmm.kcms.KcmsServiceProvider\n",
      "Nov 21, 2022 11:15:01 AM org.apache.pdfbox.rendering.PDFRenderer suggestKCMS\n",
      "INFO:   or call System.setProperty(\"sun.java2d.cmm\", \"sun.java2d.cmm.kcms.KcmsServiceProvider\")\n",
      "\n"
     ]
    }
   ],
   "source": [
    "df2=tabula.read_pdf(pdf_path,pages='2')\n",
    "#print(len(df2))\n",
    "for i in range(len(df2)):\n",
    "    df2[i].to_csv(f\"Files\\\\page_2_table{i}.csv\")\n",
    "    "
   ]
  },
  {
   "cell_type": "markdown",
   "metadata": {},
   "source": [
    "    | Extract all table"
   ]
  },
  {
   "cell_type": "code",
   "execution_count": 36,
   "metadata": {},
   "outputs": [
    {
     "name": "stderr",
     "output_type": "stream",
     "text": [
      "Got stderr: Nov 21, 2022 11:15:19 AM org.apache.pdfbox.rendering.PDFRenderer suggestKCMS\n",
      "INFO: Your current java version is: 1.8.0\n",
      "Nov 21, 2022 11:15:19 AM org.apache.pdfbox.rendering.PDFRenderer suggestKCMS\n",
      "INFO: To get higher rendering speed on old java 1.8 or 9 versions,\n",
      "Nov 21, 2022 11:15:19 AM org.apache.pdfbox.rendering.PDFRenderer suggestKCMS\n",
      "INFO:   update to the latest 1.8 or 9 version (>= 1.8.0_191 or >= 9.0.4),\n",
      "Nov 21, 2022 11:15:19 AM org.apache.pdfbox.rendering.PDFRenderer suggestKCMS\n",
      "INFO:   or\n",
      "Nov 21, 2022 11:15:19 AM org.apache.pdfbox.rendering.PDFRenderer suggestKCMS\n",
      "INFO:   use the option -Dsun.java2d.cmm=sun.java2d.cmm.kcms.KcmsServiceProvider\n",
      "Nov 21, 2022 11:15:19 AM org.apache.pdfbox.rendering.PDFRenderer suggestKCMS\n",
      "INFO:   or call System.setProperty(\"sun.java2d.cmm\", \"sun.java2d.cmm.kcms.KcmsServiceProvider\")\n",
      "\n"
     ]
    }
   ],
   "source": [
    "df_all=tabula.read_pdf(pdf_path,pages='all')\n",
    "#print(len(df2))\n",
    "for i in range(len(df_all)):\n",
    "    df_all[i].to_csv(f\"Files\\\\all_table{i}.csv\")\n",
    "    df_all[i].to_excel(f\"Files\\\\all_table{i}.xlsx\")"
   ]
  },
  {
   "cell_type": "markdown",
   "metadata": {},
   "source": [
    "<font color='red'> **Image**<font>"
   ]
  },
  {
   "cell_type": "code",
   "execution_count": 6,
   "metadata": {},
   "outputs": [],
   "source": [
    "from PIL import Image\n",
    "import pytesseract"
   ]
  },
  {
   "cell_type": "code",
   "execution_count": null,
   "metadata": {},
   "outputs": [],
   "source": [
    "image_path = r\"Files\\\\IMG.PNG\"\n",
    "img = Image.open(image_path)\n",
    "\n",
    "text=pytesseract.image_to_string(img,config='')\n",
    "print(text)\n",
    "\n",
    "\n",
    "\n"
   ]
  },
  {
   "cell_type": "code",
   "execution_count": null,
   "metadata": {},
   "outputs": [],
   "source": [
    "from PIL import Image\n",
    "import pytesseract\n",
    "path_to_tesseract = r\"C:\\Python310\\Scripts\\pytesseract.exe\"\n",
    "\n",
    "\n",
    "img = Image.open(\"Files\\\\IMG.PNG\")\n",
    "pytesseract.tesseract_cmd = path_to_tesseract\n",
    "\n",
    "text = pytesseract.image_to_string(img)\n",
    "\n",
    "print(text)"
   ]
  },
  {
   "cell_type": "code",
   "execution_count": null,
   "metadata": {},
   "outputs": [],
   "source": [
    "from PIL import Image\n",
    "from pytesseract import pytesseract\n",
    "\n",
    "# Defining paths to tesseract.exe\n",
    "# and the image we would be using\n",
    "path_to_tesseract = r\"C:\\Python310\\Scripts\\pytesseract.exe\"\n",
    "\n",
    "# path_to_tesseract = r\"C:\\Program Files\\Tesseract-OCR\\tesseract.exe\"\n",
    "image_path = r\"Files\\\\img.png\"\n",
    "\n",
    "# Opening the image & storing it in an image object\n",
    "img = Image.open(image_path)\n",
    "\n",
    "# Providing the tesseract executable\n",
    "# location to pytesseract library\n",
    "pytesseract.tesseract_cmd = path_to_tesseract\n",
    "\n",
    "# Passing the image object to image_to_string() function\n",
    "# This function will extract the text from the image\n",
    "text = pytesseract.image_to_string(img)\n",
    "\n",
    "# Displaying the extracted text\n",
    "print(text[:-1])\n"
   ]
  },
  {
   "cell_type": "code",
   "execution_count": null,
   "metadata": {},
   "outputs": [],
   "source": [
    "# Defining paths to tesseract.exe\n",
    "# and the image we would be using\n",
    "path_to_tesseract = r\"C:\\Python310\\Scripts\\pytesseract.exe\"\n",
    "image_path = r\"Files\\\\IMG.PNG\"\n",
    "pytesseract.tesseract_cmd = path_to_tesseract\n",
    "\n",
    "# Opening the image & storing it in an image object\n",
    "img = Image.open(image_path)\n",
    "text = pytesseract.image_to_string(img)\n",
    "# Displaying the extracted text\n",
    "print(text[:-1])"
   ]
  },
  {
   "cell_type": "code",
   "execution_count": null,
   "metadata": {},
   "outputs": [],
   "source": [
    "from PIL import Image\n",
    "from pytesseract import pytesseract\n",
    "\n",
    "# Defining paths to tesseract.exe\n",
    "# and the image we would be using\n",
    "path_to_tesseract = r\"C:\\Python310\\Scripts\\pytesseract.exe\"\n",
    "\n",
    "#path_to_tesseract = r\"C:\\Program Files\\Tesseract-OCR\\tesseract.exe\"\n",
    "image_path = r\"Files\\\\IMG.PNG\"\n",
    "pytesseract.tesseract_cmd = path_to_tesseract\n",
    "\n",
    "# Opening the image & storing it in an image object\n",
    "img = Image.open(image_path)\n",
    "\n",
    "# Providing the tesseract executable\n",
    "# location to pytesseract library\n",
    "\n",
    "\n",
    "# Passing the image object to image_to_string() function\n",
    "# This function will extract the text from the image\n",
    "text = pytesseract.image_to_string(img)\n",
    "\n",
    "# Displaying the extracted text\n",
    "print(text[:-1])\n"
   ]
  },
  {
   "cell_type": "markdown",
   "metadata": {},
   "source": [
    "<font color='red'> **DOCX**<font>"
   ]
  },
  {
   "cell_type": "code",
   "execution_count": 42,
   "metadata": {},
   "outputs": [],
   "source": [
    "from docx import Document\n",
    "path='Files\\\\IFC.docx'"
   ]
  },
  {
   "cell_type": "code",
   "execution_count": 43,
   "metadata": {},
   "outputs": [
    {
     "name": "stdout",
     "output_type": "stream",
     "text": [
      "Extract text from PDF File using Python\n",
      "All of you must be familiar with what PDFs are. In fact, they are one of the most important and widely used digital media. PDF stands for Portable Document Format. It uses .pdf extension. It is used to present and exchange documents reliably, independent of software, hardware, or operating system.\n",
      "\n",
      "Extracting Text from PDF File\n",
      "Python package PyPDF can be used to achieve what we want (text extraction), although it can do more than what we need. This package can also be used to generate, decrypting and merging PDF files.\n",
      "\n",
      "\n",
      "\n",
      "\n",
      "\n",
      "\n",
      "\n",
      "\n",
      "\n",
      "\n",
      "\n",
      "\n",
      "\n",
      "\n",
      "\n",
      "\n",
      "\n",
      "\n",
      "How to Extract Text from PDF\n",
      "In this blog, we are going to examine the most popular libraries for processing PDFs with Python. A lot of information is shared in the form of PDF, and often we need to extract some details for further processing.\n",
      "To assist it in my research in identifying the most popular python libraries, I looked across StackOverflow, Reddit and generally lots of google searches. I identified numerous packages, each with its own strengths and weakness. Specifically, users across the internet seem to be using: PyPDF2, Textract, tika, pdfPlumber, pdfMiner.\n",
      "\n"
     ]
    }
   ],
   "source": [
    "doc=open(path,mode='rb')\n",
    "doc_reader=Document(doc)\n",
    "data=''\n",
    "for i in doc_reader.paragraphs:\n",
    "    data +=i.text+'\\n'\n",
    "print(data)"
   ]
  },
  {
   "cell_type": "code",
   "execution_count": 44,
   "metadata": {},
   "outputs": [
    {
     "name": "stdout",
     "output_type": "stream",
     "text": [
      "Extract text from PDF File using Python\n",
      "All of you must be familiar with what PDFs are. In fact, they are one of the most important and widely used digital media. PDF stands for Portable Document Format. It uses .pdf extension. It is used to present and exchange documents reliably, independent of software, hardware, or operating system.\n",
      "\n",
      "Extracting Text from PDF File\n",
      "Python package PyPDF can be used to achieve what we want (text extraction), although it can do more than what we need. This package can also be used to generate, decrypting and merging PDF files.\n",
      "\n",
      "\n",
      "\n",
      "\n",
      "\n",
      "\n",
      "\n",
      "\n",
      "\n",
      "\n",
      "\n",
      "\n",
      "\n",
      "\n",
      "\n",
      "\n",
      "\n",
      "\n",
      "How to Extract Text from PDF\n",
      "In this blog, we are going to examine the most popular libraries for processing PDFs with Python. A lot of information is shared in the form of PDF, and often we need to extract some details for further processing.\n",
      "To assist it in my research in identifying the most popular python libraries, I looked across StackOverflow, Reddit and generally lots of google searches. I identified numerous packages, each with its own strengths and weakness. Specifically, users across the internet seem to be using: PyPDF2, Textract, tika, pdfPlumber, pdfMiner.\n"
     ]
    }
   ],
   "source": [
    "import docx\n",
    "\n",
    "path='Files\\\\IFC.docx'\n",
    "\n",
    "doc=docx.Document(path)\n",
    "len(doc.paragraphs)\n",
    "\n",
    "for i in range(len(doc.paragraphs)):\n",
    "    data=doc.paragraphs[i].text\n",
    "    print(data)"
   ]
  },
  {
   "cell_type": "code",
   "execution_count": 45,
   "metadata": {},
   "outputs": [],
   "source": [
    "import docx\n",
    "path='Files\\\\IFC.docx'\n",
    "\n",
    "Text = docx.Document(path)\n",
    "data = {}\n",
    "paragraphs = Text.paragraphs\n",
    "for i in range(2, len(Text.paragraphs)):\n",
    "    data[i] = tuple(Text.paragraphs[i].text.split('t'))\n",
    "    data_values = list(data.values())"
   ]
  },
  {
   "cell_type": "code",
   "execution_count": 46,
   "metadata": {},
   "outputs": [
    {
     "name": "stdout",
     "output_type": "stream",
     "text": [
      "\n",
      "Id Name CGPA 1 Rasel 3.69 2 Jamil 3.80 3 Ruhul 3.78 4 Riaz 3.66 "
     ]
    }
   ],
   "source": [
    "from docx import Document\n",
    "\n",
    "\n",
    "document = Document(path)\n",
    "\n",
    "for table in document.tables:\n",
    "    print()\n",
    "    for row in table.rows:\n",
    "        for cell in row.cells:\n",
    "            print(cell.text, end=' ')"
   ]
  }
 ],
 "metadata": {
  "kernelspec": {
   "display_name": "Python 3.10.1 64-bit",
   "language": "python",
   "name": "python3"
  },
  "language_info": {
   "codemirror_mode": {
    "name": "ipython",
    "version": 3
   },
   "file_extension": ".py",
   "mimetype": "text/x-python",
   "name": "python",
   "nbconvert_exporter": "python",
   "pygments_lexer": "ipython3",
   "version": "3.10.1"
  },
  "orig_nbformat": 4,
  "vscode": {
   "interpreter": {
    "hash": "369f2c481f4da34e4445cda3fffd2e751bd1c4d706f27375911949ba6bb62e1c"
   }
  }
 },
 "nbformat": 4,
 "nbformat_minor": 2
}
